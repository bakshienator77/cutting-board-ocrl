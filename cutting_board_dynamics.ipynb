{
 "cells": [
  {
   "cell_type": "code",
   "execution_count": 9,
   "id": "d26113f5",
   "metadata": {},
   "outputs": [],
   "source": [
    "import numpy as np\n",
    "import torch\n",
    "from matplotlib import pyplot as plt"
   ]
  },
  {
   "cell_type": "code",
   "execution_count": 10,
   "id": "70f491b2",
   "metadata": {},
   "outputs": [],
   "source": [
    "num_particles = 400 # approx\n",
    "board_size = 64\n",
    "knife_half_length = 16\n",
    "device = \"cuda\" if torch.cuda.is_available() else \"cpu\""
   ]
  },
  {
   "cell_type": "code",
   "execution_count": 12,
   "id": "93887f7c",
   "metadata": {},
   "outputs": [],
   "source": [
    "board = (torch.rand(board_size, board_size) > 0.5*2*(board_size**2 - num_particles)/(board_size**2)).to(device)"
   ]
  },
  {
   "cell_type": "code",
   "execution_count": 13,
   "id": "80ed55ef",
   "metadata": {},
   "outputs": [
    {
     "name": "stdout",
     "output_type": "stream",
     "text": [
      "Number of particles on the board:  tensor(433, device='cuda:0')\n"
     ]
    }
   ],
   "source": [
    "print(\"Number of particles on the board: \", torch.sum(board))"
   ]
  },
  {
   "cell_type": "code",
   "execution_count": 14,
   "id": "b25a2506",
   "metadata": {},
   "outputs": [
    {
     "data": {
      "text/plain": [
       "<matplotlib.image.AxesImage at 0x7f80084e0f40>"
      ]
     },
     "execution_count": 14,
     "metadata": {},
     "output_type": "execute_result"
    },
    {
     "data": {
      "image/png": "[encoded data removed]",
      "text/plain": [
       "<Figure size 432x288 with 1 Axes>"
      ]
     },
     "metadata": {
      "needs_background": "light"
     },
     "output_type": "display_data"
    }
   ],
   "source": [
    " plt.imshow(board.cpu())"
   ]
  },
  {
   "cell_type": "markdown",
   "id": "6ad98083",
   "metadata": {},
   "source": [
    "Currently shortcomings are that there is no bounds checking for the tensors, ideally it should just ignore indices that are outof bounds."
   ]
  },
  {
   "cell_type": "code",
   "execution_count": 6,
   "id": "01d18f8f",
   "metadata": {},
   "outputs": [],
   "source": [
    "def simulate_one_step(x, y, theta, move_distance, knife_half_length, board):\n",
    "#     board = board.to(device)\n",
    "    coords = torch.nonzero(board)\n",
    "    R = torch.Tensor([[-np.sin(theta),-np.cos(theta)],[np.cos(theta),-np.sin(theta)]]).to(device)\n",
    "    transformed_coords = coords.float() @ R    \n",
    "    apply_at = torch.Tensor([[x,y]]).to(device) @ R\n",
    "    indices_of_interest = torch.logical_and(torch.logical_and(torch.logical_and((\n",
    "                              apply_at[0,0] + move_distance) > transformed_coords[:,0], \n",
    "                              transformed_coords[:,0]> apply_at[0,0]), \n",
    "                              ((apply_at[0,1]+knife_half_length) > transformed_coords[:,1])),\n",
    "                              (transformed_coords[:,1]> (apply_at[0,1] - knife_half_length)))\n",
    "    to_move = transformed_coords[indices_of_interest]\n",
    "    to_zero = coords[indices_of_interest]\n",
    "    board[to_zero[:,0], to_zero[:,1]] = False\n",
    "    to_move[:,0] = (apply_at[0,0] + move_distance) \n",
    "    to_move = (to_move@ R.T).round().long()\n",
    "    board[to_move[:,0], to_move[:,1]] = True\n",
    "    plt.figure()\n",
    "    plt.imshow(board.cpu())\n",
    "#     return board"
   ]
  },
  {
   "cell_type": "code",
   "execution_count": 7,
   "id": "0aecc4e9",
   "metadata": {},
   "outputs": [
    {
     "data": {
      "text/plain": [
       "<matplotlib.image.AxesImage at 0x7f80097b6c40>"
      ]
     },
     "execution_count": 7,
     "metadata": {},
     "output_type": "execute_result"
    },
    {
     "data": {
      "image/png": "[encoded data removed]",
      "text/plain": [
       "<Figure size 432x288 with 1 Axes>"
      ]
     },
     "metadata": {
      "needs_background": "light"
     },
     "output_type": "display_data"
    }
   ],
   "source": [
    "board = (torch.rand(board_size, board_size) > 0.01) #0.5*2*(board_size**2 - num_particles)/(board_size**2)).to(device)\n",
    "plt.imshow(board.cpu())"
   ]
  },
  {
   "cell_type": "code",
   "execution_count": 8,
   "id": "fe42310c",
   "metadata": {},
   "outputs": [
    {
     "ename": "RuntimeError",
     "evalue": "Expected all tensors to be on the same device, but found at least two devices, cpu and cuda:0! (when checking argument for argument mat2 in method wrapper_mm)",
     "output_type": "error",
     "traceback": [
      "\u001b[0;31m---------------------------------------------------------------------------\u001b[0m",
      "\u001b[0;31mRuntimeError\u001b[0m                              Traceback (most recent call last)",
      "\u001b[0;32m/tmp/ipykernel_29047/2176848582.py\u001b[0m in \u001b[0;36m<module>\u001b[0;34m\u001b[0m\n\u001b[0;32m----> 1\u001b[0;31m \u001b[0msimulate_one_step\u001b[0m\u001b[0;34m(\u001b[0m\u001b[0;36m32\u001b[0m\u001b[0;34m,\u001b[0m\u001b[0;36m32\u001b[0m\u001b[0;34m,\u001b[0m \u001b[0mnp\u001b[0m\u001b[0;34m.\u001b[0m\u001b[0mpi\u001b[0m\u001b[0;34m/\u001b[0m\u001b[0;36m2\u001b[0m\u001b[0;34m,\u001b[0m \u001b[0mmove_distance\u001b[0m\u001b[0;34m=\u001b[0m\u001b[0;36m20\u001b[0m\u001b[0;34m,\u001b[0m \u001b[0mknife_half_length\u001b[0m\u001b[0;34m=\u001b[0m\u001b[0mknife_half_length\u001b[0m\u001b[0;34m/\u001b[0m\u001b[0;36m3\u001b[0m\u001b[0;34m,\u001b[0m \u001b[0mboard\u001b[0m\u001b[0;34m=\u001b[0m\u001b[0mboard\u001b[0m\u001b[0;34m)\u001b[0m\u001b[0;34m\u001b[0m\u001b[0;34m\u001b[0m\u001b[0m\n\u001b[0m",
      "\u001b[0;32m/tmp/ipykernel_29047/4122393773.py\u001b[0m in \u001b[0;36msimulate_one_step\u001b[0;34m(x, y, theta, move_distance, knife_half_length, board)\u001b[0m\n\u001b[1;32m      3\u001b[0m     \u001b[0mcoords\u001b[0m \u001b[0;34m=\u001b[0m \u001b[0mtorch\u001b[0m\u001b[0;34m.\u001b[0m\u001b[0mnonzero\u001b[0m\u001b[0;34m(\u001b[0m\u001b[0mboard\u001b[0m\u001b[0;34m)\u001b[0m\u001b[0;34m\u001b[0m\u001b[0;34m\u001b[0m\u001b[0m\n\u001b[1;32m      4\u001b[0m     \u001b[0mR\u001b[0m \u001b[0;34m=\u001b[0m \u001b[0mtorch\u001b[0m\u001b[0;34m.\u001b[0m\u001b[0mTensor\u001b[0m\u001b[0;34m(\u001b[0m\u001b[0;34m[\u001b[0m\u001b[0;34m[\u001b[0m\u001b[0;34m-\u001b[0m\u001b[0mnp\u001b[0m\u001b[0;34m.\u001b[0m\u001b[0msin\u001b[0m\u001b[0;34m(\u001b[0m\u001b[0mtheta\u001b[0m\u001b[0;34m)\u001b[0m\u001b[0;34m,\u001b[0m\u001b[0;34m-\u001b[0m\u001b[0mnp\u001b[0m\u001b[0;34m.\u001b[0m\u001b[0mcos\u001b[0m\u001b[0;34m(\u001b[0m\u001b[0mtheta\u001b[0m\u001b[0;34m)\u001b[0m\u001b[0;34m]\u001b[0m\u001b[0;34m,\u001b[0m\u001b[0;34m[\u001b[0m\u001b[0mnp\u001b[0m\u001b[0;34m.\u001b[0m\u001b[0mcos\u001b[0m\u001b[0;34m(\u001b[0m\u001b[0mtheta\u001b[0m\u001b[0;34m)\u001b[0m\u001b[0;34m,\u001b[0m\u001b[0;34m-\u001b[0m\u001b[0mnp\u001b[0m\u001b[0;34m.\u001b[0m\u001b[0msin\u001b[0m\u001b[0;34m(\u001b[0m\u001b[0mtheta\u001b[0m\u001b[0;34m)\u001b[0m\u001b[0;34m]\u001b[0m\u001b[0;34m]\u001b[0m\u001b[0;34m)\u001b[0m\u001b[0;34m.\u001b[0m\u001b[0mto\u001b[0m\u001b[0;34m(\u001b[0m\u001b[0mdevice\u001b[0m\u001b[0;34m)\u001b[0m\u001b[0;34m\u001b[0m\u001b[0;34m\u001b[0m\u001b[0m\n\u001b[0;32m----> 5\u001b[0;31m     \u001b[0mtransformed_coords\u001b[0m \u001b[0;34m=\u001b[0m \u001b[0mcoords\u001b[0m\u001b[0;34m.\u001b[0m\u001b[0mfloat\u001b[0m\u001b[0;34m(\u001b[0m\u001b[0;34m)\u001b[0m \u001b[0;34m@\u001b[0m \u001b[0mR\u001b[0m\u001b[0;34m\u001b[0m\u001b[0;34m\u001b[0m\u001b[0m\n\u001b[0m\u001b[1;32m      6\u001b[0m     \u001b[0mapply_at\u001b[0m \u001b[0;34m=\u001b[0m \u001b[0mtorch\u001b[0m\u001b[0;34m.\u001b[0m\u001b[0mTensor\u001b[0m\u001b[0;34m(\u001b[0m\u001b[0;34m[\u001b[0m\u001b[0;34m[\u001b[0m\u001b[0mx\u001b[0m\u001b[0;34m,\u001b[0m\u001b[0my\u001b[0m\u001b[0;34m]\u001b[0m\u001b[0;34m]\u001b[0m\u001b[0;34m)\u001b[0m\u001b[0;34m.\u001b[0m\u001b[0mto\u001b[0m\u001b[0;34m(\u001b[0m\u001b[0mdevice\u001b[0m\u001b[0;34m)\u001b[0m \u001b[0;34m@\u001b[0m \u001b[0mR\u001b[0m\u001b[0;34m\u001b[0m\u001b[0;34m\u001b[0m\u001b[0m\n\u001b[1;32m      7\u001b[0m     indices_of_interest = torch.logical_and(torch.logical_and(torch.logical_and((\n",
      "\u001b[0;31mRuntimeError\u001b[0m: Expected all tensors to be on the same device, but found at least two devices, cpu and cuda:0! (when checking argument for argument mat2 in method wrapper_mm)"
     ]
    }
   ],
   "source": [
    "simulate_one_step(32,32, np.pi/2, move_distance=20, knife_half_length=knife_half_length/3, board=board)"
   ]
  },
  {
   "cell_type": "code",
   "execution_count": null,
   "id": "83aeabc4",
   "metadata": {},
   "outputs": [],
   "source": [
    "simulate_one_step(32,16, theta, move_distance=10, knife_half_length=knife_half_length, board=board)"
   ]
  },
  {
   "cell_type": "code",
   "execution_count": null,
   "id": "4cf8dfbf",
   "metadata": {},
   "outputs": [],
   "source": [
    "simulate_one_step(32,16, -theta, move_distance=10, knife_half_length=knife_half_length, board=board)"
   ]
  },
  {
   "cell_type": "code",
   "execution_count": 12,
   "id": "475299f8",
   "metadata": {},
   "outputs": [
    {
     "data": {
      "image/png": "[encoded data removed]",
      "text/plain": [
       "<Figure size 432x288 with 1 Axes>"
      ]
     },
     "metadata": {
      "needs_background": "light"
     },
     "output_type": "display_data"
    }
   ],
   "source": [
    "simulate_one_step(32,16, theta, move_distance=20, knife_half_length=knife_half_length, board=board)"
   ]
  },
  {
   "cell_type": "code",
   "execution_count": 14,
   "id": "a101162b",
   "metadata": {
    "scrolled": true
   },
   "outputs": [
    {
     "data": {
      "image/png": "[encoded data removed]",
      "text/plain": [
       "<Figure size 432x288 with 1 Axes>"
      ]
     },
     "metadata": {
      "needs_background": "light"
     },
     "output_type": "display_data"
    }
   ],
   "source": [
    "simulate_one_step(16,48, np.pi-theta, move_distance=5, knife_half_length=knife_half_length, board=board)"
   ]
  },
  {
   "cell_type": "code",
   "execution_count": 15,
   "id": "1869b7c4",
   "metadata": {},
   "outputs": [
    {
     "data": {
      "image/png": "[encoded data removed]",
      "text/plain": [
       "<Figure size 432x288 with 1 Axes>"
      ]
     },
     "metadata": {
      "needs_background": "light"
     },
     "output_type": "display_data"
    },
    {
     "data": {
      "image/png": "[encoded data removed]",
      "text/plain": [
       "<Figure size 432x288 with 1 Axes>"
      ]
     },
     "metadata": {
      "needs_background": "light"
     },
     "output_type": "display_data"
    }
   ],
   "source": [
    "board = (torch.rand(board_size, board_size) > 0.0).to(device)\n",
    "\n",
    "plt.imshow(board.cpu())\n",
    "\n",
    "board\n",
    "\n",
    "simulate_one_step(32,16, theta, move_distance=20, knife_half_length=knife_half_length, board=board)\n",
    "\n"
   ]
  },
  {
   "cell_type": "code",
   "execution_count": null,
   "id": "73d4c9b7",
   "metadata": {},
   "outputs": [],
   "source": []
  }
 ],
 "metadata": {
  "kernelspec": {
   "display_name": "Python 3",
   "language": "python",
   "name": "python3"
  },
  "language_info": {
   "codemirror_mode": {
    "name": "ipython",
    "version": 3
   },
   "file_extension": ".py",
   "mimetype": "text/x-python",
   "name": "python",
   "nbconvert_exporter": "python",
   "pygments_lexer": "ipython3",
   "version": "3.8.12"
  }
 },
 "nbformat": 4,
 "nbformat_minor": 5
}
